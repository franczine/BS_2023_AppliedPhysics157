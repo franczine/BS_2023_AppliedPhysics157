{
 "cells": [
  {
   "cell_type": "markdown",
   "id": "cb0d8d6e",
   "metadata": {},
   "source": [
    "# Machine Learning: Neural Network for Regression\n",
    "\n",
    "Submitted by Mary Franczine Tan\n",
    "\n",
    "Applied Physics 157\n",
    "\n",
    "AY 2022-2023 2nd Semester"
   ]
  },
  {
   "cell_type": "code",
   "execution_count": 1,
   "id": "3a73d3d4",
   "metadata": {},
   "outputs": [],
   "source": [
    "# import packages\n",
    "\n",
    "import cv2\n",
    "import numpy as np\n",
    "import pandas as pd\n",
    "import seaborn as sns\n",
    "import matplotlib.pyplot as plt\n",
    "import glob"
   ]
  },
  {
   "cell_type": "markdown",
   "id": "cbb6fa15",
   "metadata": {},
   "source": [
    "## Input Vectors"
   ]
  },
  {
   "cell_type": "markdown",
   "id": "5518cf26",
   "metadata": {},
   "source": [
    "Any function can be represented as the expansion\n",
    "\n",
    "$$\n",
    " f(x) = w_o + w_1 x + w_2 x^2 + w_3 x^3 + ...\n",
    "$$\n",
    "\n",
    "We will make use of this knowledge to approximate a sine wave using neural network. Here, the input vectors will become\n",
    "\n",
    "$$\n",
    "\\begin{array}{c}\n",
    "    x_o = 1 \\\\\n",
    "    x_1 = x \\\\\n",
    "    x_2 = x^2 \\\\\n",
    "    \\vdots\n",
    "\\end{array}\n",
    "$$\n",
    "\n",
    "Where $x_o$ is the bias input and $x_n$ is the value of x to the $n^{th}$ degree. Each of the input vectors will have their corresponding weight $w_o$ for the bias and $w_n$ for the rest. In this model, I will be setting $n=5$."
   ]
  },
  {
   "cell_type": "code",
   "execution_count": 169,
   "id": "c0d6833c",
   "metadata": {},
   "outputs": [],
   "source": [
    "x_samples = np.linspace(0, 2 * np.pi, 30)\n",
    "y_target = np.sin(x_samples)"
   ]
  },
  {
   "cell_type": "code",
   "execution_count": 170,
   "id": "f5cb7af2",
   "metadata": {},
   "outputs": [
    {
     "data": {
      "text/html": [
       "<div>\n",
       "<style scoped>\n",
       "    .dataframe tbody tr th:only-of-type {\n",
       "        vertical-align: middle;\n",
       "    }\n",
       "\n",
       "    .dataframe tbody tr th {\n",
       "        vertical-align: top;\n",
       "    }\n",
       "\n",
       "    .dataframe thead th {\n",
       "        text-align: right;\n",
       "    }\n",
       "</style>\n",
       "<table border=\"1\" class=\"dataframe\">\n",
       "  <thead>\n",
       "    <tr style=\"text-align: right;\">\n",
       "      <th></th>\n",
       "      <th>x</th>\n",
       "      <th>x0</th>\n",
       "      <th>x1</th>\n",
       "      <th>x2</th>\n",
       "      <th>x3</th>\n",
       "      <th>x4</th>\n",
       "      <th>y_hat</th>\n",
       "    </tr>\n",
       "  </thead>\n",
       "  <tbody>\n",
       "    <tr>\n",
       "      <th>0</th>\n",
       "      <td>0.000000</td>\n",
       "      <td>1.0</td>\n",
       "      <td>0.000000</td>\n",
       "      <td>0.000000</td>\n",
       "      <td>0.000000</td>\n",
       "      <td>0.000000</td>\n",
       "      <td>0.000000</td>\n",
       "    </tr>\n",
       "    <tr>\n",
       "      <th>1</th>\n",
       "      <td>0.216662</td>\n",
       "      <td>1.0</td>\n",
       "      <td>0.216662</td>\n",
       "      <td>0.046942</td>\n",
       "      <td>0.010171</td>\n",
       "      <td>0.002204</td>\n",
       "      <td>0.214970</td>\n",
       "    </tr>\n",
       "    <tr>\n",
       "      <th>2</th>\n",
       "      <td>0.433323</td>\n",
       "      <td>1.0</td>\n",
       "      <td>0.433323</td>\n",
       "      <td>0.187769</td>\n",
       "      <td>0.081365</td>\n",
       "      <td>0.035257</td>\n",
       "      <td>0.419889</td>\n",
       "    </tr>\n",
       "    <tr>\n",
       "      <th>3</th>\n",
       "      <td>0.649985</td>\n",
       "      <td>1.0</td>\n",
       "      <td>0.649985</td>\n",
       "      <td>0.422480</td>\n",
       "      <td>0.274606</td>\n",
       "      <td>0.178489</td>\n",
       "      <td>0.605174</td>\n",
       "    </tr>\n",
       "    <tr>\n",
       "      <th>4</th>\n",
       "      <td>0.866646</td>\n",
       "      <td>1.0</td>\n",
       "      <td>0.866646</td>\n",
       "      <td>0.751076</td>\n",
       "      <td>0.650917</td>\n",
       "      <td>0.564115</td>\n",
       "      <td>0.762162</td>\n",
       "    </tr>\n",
       "  </tbody>\n",
       "</table>\n",
       "</div>"
      ],
      "text/plain": [
       "          x   x0        x1        x2        x3        x4     y_hat\n",
       "0  0.000000  1.0  0.000000  0.000000  0.000000  0.000000  0.000000\n",
       "1  0.216662  1.0  0.216662  0.046942  0.010171  0.002204  0.214970\n",
       "2  0.433323  1.0  0.433323  0.187769  0.081365  0.035257  0.419889\n",
       "3  0.649985  1.0  0.649985  0.422480  0.274606  0.178489  0.605174\n",
       "4  0.866646  1.0  0.866646  0.751076  0.650917  0.564115  0.762162"
      ]
     },
     "metadata": {},
     "output_type": "display_data"
    }
   ],
   "source": [
    "train = pd.DataFrame([], columns = ['x', 'x0', 'x1', 'x2', 'x3', 'x4', 'y_hat'])\n",
    "\n",
    "for x in x_samples:\n",
    "    train.loc[len(train.index)] = [x, 1, x, x ** 2, x ** 3, x ** 4, np.sin(x)] \n",
    "    \n",
    "display(train.head())"
   ]
  },
  {
   "cell_type": "code",
   "execution_count": 171,
   "id": "3e0e44b0",
   "metadata": {
    "scrolled": false
   },
   "outputs": [
    {
     "data": {
      "text/plain": [
       "[<matplotlib.lines.Line2D at 0x7feaed6dedf0>]"
      ]
     },
     "execution_count": 171,
     "metadata": {},
     "output_type": "execute_result"
    },
    {
     "data": {
      "image/png": "[encoded data removed]",
      "text/plain": [
       "<Figure size 640x480 with 1 Axes>"
      ]
     },
     "metadata": {},
     "output_type": "display_data"
    }
   ],
   "source": [
    "plt.plot(train.x, train.y_hat)"
   ]
  },
  {
   "cell_type": "markdown",
   "id": "1cde13b3",
   "metadata": {},
   "source": [
    "## Model Training"
   ]
  },
  {
   "cell_type": "code",
   "execution_count": 228,
   "id": "38503b55",
   "metadata": {},
   "outputs": [
    {
     "name": "stdout",
     "output_type": "stream",
     "text": [
      "[[ 0.33367433  1.49407907 -0.20515826]]\n"
     ]
    }
   ],
   "source": [
    "# set random seed\n",
    "np.random.seed(0)\n",
    "\n",
    "# initialize random weights\n",
    "weights = np.random.randn(3, 5)\n",
    "weights2 = np.random.randn(1, 3)\n",
    "print(weights2)\n",
    "\n",
    "# set learning rate\n",
    "n = 0.1"
   ]
  },
  {
   "cell_type": "code",
   "execution_count": 168,
   "id": "44df70b3",
   "metadata": {},
   "outputs": [],
   "source": [
    "def getW_sum(feature, weights):\n",
    "    return np.dot(feature, weights)"
   ]
  },
  {
   "cell_type": "code",
   "execution_count": 216,
   "id": "5fcd4b6e",
   "metadata": {},
   "outputs": [],
   "source": [
    "def ReLU(a):\n",
    "    if a > 0:\n",
    "        return a\n",
    "    elif a <= 0:\n",
    "        return 0"
   ]
  },
  {
   "cell_type": "code",
   "execution_count": 232,
   "id": "dc294b54",
   "metadata": {},
   "outputs": [],
   "source": [
    "def tanh(a):\n",
    "    return (np.exp(x) - np.exp(-x)) / (np.exp(x) + np.exp(-x))"
   ]
  },
  {
   "cell_type": "code",
   "execution_count": 273,
   "id": "f7a2abff",
   "metadata": {},
   "outputs": [],
   "source": [
    "def ReLU_prime(a):\n",
    "    if a > 0:\n",
    "        return 1\n",
    "    elif a < 0:\n",
    "        return 0"
   ]
  },
  {
   "cell_type": "code",
   "execution_count": 237,
   "id": "40de384f",
   "metadata": {},
   "outputs": [],
   "source": [
    "def tanh_prime(a):\n",
    "    return 1 - (tanh(a) ** 2)"
   ]
  },
  {
   "cell_type": "code",
   "execution_count": null,
   "id": "18edbbe6",
   "metadata": {},
   "outputs": [],
   "source": []
  },
  {
   "cell_type": "code",
   "execution_count": 287,
   "id": "8c333046",
   "metadata": {},
   "outputs": [
    {
     "name": "stdout",
     "output_type": "stream",
     "text": [
      "(30, 5)\n"
     ]
    }
   ],
   "source": [
    "features = train.iloc[:,1:6].to_numpy()\n",
    "print(features.shape)"
   ]
  },
  {
   "cell_type": "code",
   "execution_count": 251,
   "id": "2556a058",
   "metadata": {},
   "outputs": [],
   "source": [
    "def forward(df, weights):\n",
    "    \n",
    "    outputs = []\n",
    "    \n",
    "    for i in range(len(df)):\n",
    "        features = list(df.loc[i][1:6])\n",
    "        w_sum1 = np.dot(features, weights.T)\n",
    "        hidden1 = [ReLU(a) for a in w_sum1]\n",
    "\n",
    "        w_sum2 = np.dot(hidden1, weights2.T)\n",
    "        output = tanh(w_sum2)\n",
    "        outputs.append(output)\n",
    "    \n",
    "    return outputs"
   ]
  },
  {
   "cell_type": "code",
   "execution_count": 292,
   "id": "4d162e2d",
   "metadata": {},
   "outputs": [
    {
     "name": "stdout",
     "output_type": "stream",
     "text": [
      "[[ 4.65448153e-06]\n",
      " [ 2.08411702e-05]\n",
      " [-2.86178849e-06]]\n",
      "[1. 0. 0. 0. 0.]\n",
      "(3, 1) (5,)\n",
      "[[ 3.65389861e-06]\n",
      " [ 1.63609034e-05]\n",
      " [-2.24658427e-06]]\n",
      "[1.         0.21666156 0.04694223 0.01017058 0.00220357]\n",
      "(3, 1) (5,)\n",
      "[[ 2.70010183e-06]\n",
      " [ 1.20901289e-05]\n",
      " [-1.66014631e-06]]\n",
      "[1.         0.43332312 0.18776893 0.08136462 0.03525717]\n",
      "(3, 1) (5,)\n",
      "[[ 1.83768968e-06]\n",
      " [ 8.22854342e-06]\n",
      " [-1.12989581e-06]]\n",
      "[1.         0.64998469 0.42248009 0.27460559 0.17848943]\n",
      "(3, 1) (5,)\n",
      "[[ 1.10698758e-06]\n",
      " [ 4.95671030e-06]\n",
      " [-6.80626681e-07]]\n",
      "[1.         0.86664625 0.75107572 0.65091696 0.56411474]\n",
      "(3, 1) (5,)\n",
      "[[ 5.42162356e-07]\n",
      " [ 2.42761688e-06]\n",
      " [-3.33346256e-07]]\n",
      "[1.         1.08330781 1.17355581 1.27132218 1.37723325]\n",
      "(3, 1) (5,)\n",
      "[[ 1.69624606e-07]\n",
      " [ 7.59520748e-07]\n",
      " [-1.04292979e-07]]\n",
      "[1.         1.29996937 1.68992037 2.19684473 2.85583087]\n",
      "(3, 1) (5,)\n",
      "[[ 6.79378210e-09]\n",
      " [ 3.04202237e-08]\n",
      " [-4.17712849e-09]]\n",
      "[1.         1.51663094 2.3001694  3.48850807 5.29077925]\n",
      "(3, 1) (5,)\n",
      "[[ 6.12836716e-08]\n",
      " [ 2.74407240e-07]\n",
      " [-3.76800090e-08]]\n",
      "[1.         1.7332925  3.00430289 5.20733565 9.02583583]\n",
      "(3, 1) (5,)\n",
      "[[ 3.30546388e-07]\n",
      " [ 1.48007323e-06]\n",
      " [-2.03235063e-07]]\n",
      "[ 1.          1.94995406  3.80232084  7.41435096 14.45764377]\n",
      "(3, 1) (5,)\n",
      "[[ 8.01991506e-07]\n",
      " [ 3.59104261e-06]\n",
      " [-4.93101121e-07]]\n",
      "[ 1.          2.16661562  4.69422326 10.17057745 22.035732  ]\n",
      "(3, 1) (5,)\n",
      "[[ 1.45357478e-06]\n",
      " [ 6.50860877e-06]\n",
      " [-8.93724368e-07]]\n",
      "[ 1.          2.38327719  5.68001014 13.53703859 32.26251522]\n",
      "(3, 1) (5,)\n",
      "[[ 2.25482889e-06]\n",
      " [ 1.00963496e-05]\n",
      " [-1.38637211e-06]]\n",
      "[ 1.          2.59993875  6.75968149 17.57475783 45.69329388]\n",
      "(3, 1) (5,)\n",
      "[[ 3.16828809e-06]\n",
      " [ 1.41865063e-05]\n",
      " [-1.94800867e-06]]\n",
      "[ 1.          2.81660031  7.93323731 22.34475866 62.93625417]\n",
      "(3, 1) (5,)\n",
      "[[ 4.15124005e-06]\n",
      " [ 1.85878276e-05]\n",
      " [-2.55237257e-06]]\n",
      "[ 1.          3.03326187  9.20067759 27.90806452 84.65246806]\n",
      "(3, 1) (5,)\n",
      "[[ 5.15772302e-06]\n",
      " [ 2.30945128e-05]\n",
      " [-3.17120441e-06]]\n",
      "[  1.           3.24992343  10.56200233  34.3256989  111.55589326]\n",
      "(3, 1) (5,)\n",
      "[[ 6.14067497e-06]\n",
      " [ 2.74958342e-05]\n",
      " [-3.77556831e-06]]\n",
      "[  1.           3.466585    12.01721154  41.65868524 144.41337324]\n",
      "(3, 1) (5,)\n",
      "[[ 7.05413418e-06]\n",
      " [ 3.15859909e-05]\n",
      " [-4.33720488e-06]]\n",
      "[  1.           3.68324656  13.56630522  49.96804701 184.04463725]\n",
      "(3, 1) (5,)\n",
      "[[ 7.85538829e-06]\n",
      " [ 3.51737317e-05]\n",
      " [-4.82985261e-06]]\n",
      "[  1.           3.89990812  15.20928336  59.31480769 231.32230025]\n",
      "(3, 1) (5,)\n",
      "[[ 8.50697156e-06]\n",
      " [ 3.80912978e-05]\n",
      " [-5.23047586e-06]]\n",
      "[  1.           4.11656968  16.94614596  69.75999073 287.17186301]\n",
      "(3, 1) (5,)\n",
      "[[ 8.97841668e-06]\n",
      " [ 4.02022672e-05]\n",
      " [-5.52034192e-06]]\n",
      "[  1.           4.33323125  18.77689303  81.3646196  352.57171202]\n",
      "(3, 1) (5,)\n",
      "[[ 9.24767939e-06]\n",
      " [ 4.14079332e-05]\n",
      " [-5.68589697e-06]]\n",
      "[  1.           4.54989281  20.70152457  94.18971777 428.55311953]\n",
      "(3, 1) (5,)\n",
      "[[ 9.30216928e-06]\n",
      " [ 4.16519202e-05]\n",
      " [-5.71939985e-06]]\n",
      "[  1.           4.76655437  22.72004057 108.29630869 516.20024356]\n",
      "(3, 1) (5,)\n",
      "[[ 9.13933846e-06]\n",
      " [ 4.09228197e-05]\n",
      " [-5.61928400e-06]]\n",
      "[  1.           4.98321593  24.83244104 123.74541584 616.65012789]\n",
      "(3, 1) (5,)\n",
      "[[ 8.76680071e-06]\n",
      " [ 3.92547236e-05]\n",
      " [-5.39023073e-06]]\n",
      "[  1.           5.1998775   27.03872597 140.59806268 731.09270204]\n",
      "(3, 1) (5,)\n",
      "[[ 8.20197549e-06]\n",
      " [ 3.67256301e-05]\n",
      " [-5.04295030e-06]]\n",
      "[  1.           5.41653906  29.33889537 158.91527267 860.77078129]\n",
      "(3, 1) (5,)\n",
      "[[ 7.47127339e-06]\n",
      " [ 3.34537970e-05]\n",
      " [-4.59368118e-06]]\n",
      "[1.00000000e+00 5.63320062e+00 3.17329492e+01 1.78758069e+02\n",
      " 1.00698007e+03]\n",
      "(3, 1) (5,)\n",
      "[[ 6.60886123e-06]\n",
      " [ 2.95922115e-05]\n",
      " [-4.06343067e-06]]\n",
      "[1.00000000e+00 5.84986218e+00 3.42208876e+01 2.00187476e+02\n",
      " 1.17106915e+03]\n",
      "(3, 1) (5,)\n",
      "[[ 5.65506446e-06]\n",
      " [ 2.53214370e-05]\n",
      " [-3.47699271e-06]]\n",
      "[1.00000000e+00 6.06652374e+00 3.68027103e+01 2.23264516e+02\n",
      " 1.35443949e+03]\n",
      "(3, 1) (5,)\n",
      "[[ 4.65448153e-06]\n",
      " [ 2.08411702e-05]\n",
      " [-2.86178849e-06]]\n",
      "[1.00000000e+00 6.28318531e+00 3.94784176e+01 2.48050213e+02\n",
      " 1.55854546e+03]\n",
      "(3, 1) (5,)\n"
     ]
    }
   ],
   "source": [
    "output1 = forward(train, weights)\n",
    "\n",
    "for predicted, target, feature in zip(output1, train.y_hat, features):\n",
    "    output_error = tanh_prime(a) * (predicted - target)\n",
    "    hidden1_error = ReLU_prime(output_error) * np.dot(output_error, weights2.T)\n",
    "    \n",
    "    output_error_prime = np.dot(output_error, predicted)\n",
    "    #hidden1_error_prime = np.dot(hidden1_error.T, feature)\n",
    "    print(hidden1_error)\n",
    "    print(feature)\n",
    "    print(hidden1_error.shape, feature.shape)"
   ]
  },
  {
   "cell_type": "code",
   "execution_count": null,
   "id": "ce79d653",
   "metadata": {},
   "outputs": [],
   "source": []
  }
 ],
 "metadata": {
  "kernelspec": {
   "display_name": "Python 3 (ipykernel)",
   "language": "python",
   "name": "python3"
  },
  "language_info": {
   "codemirror_mode": {
    "name": "ipython",
    "version": 3
   },
   "file_extension": ".py",
   "mimetype": "text/x-python",
   "name": "python",
   "nbconvert_exporter": "python",
   "pygments_lexer": "ipython3",
   "version": "3.9.12"
  }
 },
 "nbformat": 4,
 "nbformat_minor": 5
}
